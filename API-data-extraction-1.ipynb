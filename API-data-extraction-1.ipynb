{
 "cells": [
  {
   "cell_type": "code",
   "execution_count": 127,
   "metadata": {},
   "outputs": [],
   "source": [
    "# Necessary libraries\n",
    "import requests\n",
    "import pandas as pd"
   ]
  },
  {
   "cell_type": "code",
   "execution_count": 70,
   "metadata": {},
   "outputs": [],
   "source": [
    "# Set your API key\n",
    "api_key = \"24efa7fb0e6e8e80b521506cdfcd1f76\"\n",
    "\n",
    "# Base API URL\n",
    "base_url = \"https://manifesto-project.wzb.eu/api/v1/\""
   ]
  },
  {
   "cell_type": "code",
   "execution_count": 15,
   "metadata": {},
   "outputs": [
    {
     "name": "stdout",
     "output_type": "stream",
     "text": [
      "{'datasets': [{'id': 'MPDS2012a', 'name': 'Manifesto Project Dataset (version 2012a)'}, {'id': 'MPDS2012b', 'name': 'Manifesto Project Dataset (version 2012b)'}, {'id': 'MPDS2013a', 'name': 'Manifesto Project Dataset (version 2013a)'}, {'id': 'MPDS2013b', 'name': 'Manifesto Project Dataset (version 2013b)'}, {'id': 'MPDS2014a', 'name': 'Manifesto Project Dataset (version 2014a)'}, {'id': 'MPDS2014b', 'name': 'Manifesto Project Dataset (version 2014b)'}, {'id': 'MPDS2015a', 'name': 'Manifesto Project Dataset (version 2015a)'}, {'id': 'MPDS2016a', 'name': 'Manifesto Project Dataset (version 2016a)'}, {'id': 'MPDS2016b', 'name': 'Manifesto Project Dataset (version 2016b)'}, {'id': 'MPDS2017a', 'name': 'Manifesto Project Dataset (version 2017a)'}, {'id': 'MPDS2017b', 'name': 'Manifesto Project Dataset (version 2017b)'}, {'id': 'MPDS2018a', 'name': 'Manifesto Project Dataset (version 2018a)'}, {'id': 'MPDS2018b', 'name': 'Manifesto Project Dataset (version 2018b)'}, {'id': 'MPDS2019a', 'name': 'Manifesto Project Dataset (version 2019a)'}, {'id': 'MPDS2019b', 'name': 'Manifesto Project Dataset (version 2019b)'}, {'id': 'MPDS2020a', 'name': 'Manifesto Project Dataset (version 2020a)'}, {'id': 'MPDS2020b', 'name': 'Manifesto Project Dataset (version 2020b)'}, {'id': 'MPDS2021a', 'name': 'Manifesto Project Dataset (version 2021a)'}, {'id': 'MPDS2022a', 'name': 'Manifesto Project Dataset (version 2022a)'}, {'id': 'MPDS2023a', 'name': 'Manifesto Project Dataset (version 2023a)'}, {'id': 'MPDS2024a', 'name': 'Manifesto Project Dataset (version 2024a)'}]}\n"
     ]
    }
   ],
   "source": [
    "#get list core versions\n",
    "# Endpoint for listing all core dataset versions\n",
    "endpoint = \"list_core_versions\"\n",
    "\n",
    "def list_core_versions():\n",
    "    url = f\"{base_url}{endpoint}\"\n",
    "    response = requests.get(url)\n",
    "    if response.status_code == 200:\n",
    "        return response.json()\n",
    "    else:\n",
    "        print(\"Error fetching core versions:\", response.status_code, response.text)\n",
    "        return None\n",
    "\n",
    "# Call the function\n",
    "core_versions = list_core_versions()\n",
    "\n",
    "# Print the retrieved core dataset versions\n",
    "if core_versions is not None:\n",
    "    print(core_versions)"
   ]
  },
  {
   "cell_type": "code",
   "execution_count": null,
   "metadata": {},
   "outputs": [],
   "source": [
    "# get list metadata version\n",
    "endpoint_list = \"list_metadata_versions\"\n",
    "\n",
    "def list_metadata_versions():\n",
    "    url = f\"{base_url}{endpoint_list}\"\n",
    "    response = requests.get(url)\n",
    "    if response.status_code == 200:\n",
    "        return response.json()\n",
    "    else:\n",
    "        print(\"Error fetching metadata versions:\", response.status_code, response.text)\n",
    "        return None\n",
    "\n",
    "metadata_versions = list_metadata_versions()\n",
    "metadata_versions"
   ]
  },
  {
   "cell_type": "code",
   "execution_count": 60,
   "metadata": {},
   "outputs": [],
   "source": [
    "# get_core_dataset function\n",
    "key = \"MPDS2024a\"\n",
    "def get_core_dataset(api_key, key):\n",
    "    url = f\"{base_url}get_core?key={key}&api_key={api_key}\"\n",
    "    response = requests.get(url)\n",
    "    if response.status_code == 200:\n",
    "        return response.json()\n",
    "    else:\n",
    "        print(\"Error fetching core dataset:\", response.status_code, response.text)\n",
    "        return None"
   ]
  },
  {
   "cell_type": "code",
   "execution_count": null,
   "metadata": {},
   "outputs": [],
   "source": [
    "# retrieve the core dataset\n",
    "core_dataset = get_core_dataset(api_key, key)\n",
    "core_dataset"
   ]
  },
  {
   "cell_type": "code",
   "execution_count": 96,
   "metadata": {},
   "outputs": [],
   "source": [
    "#get_metadata\n",
    "version = \"2024-1\"\n",
    "def get_metadata(api_key, party, date, version):\n",
    "    keys = f\"{party}_{date}\"\n",
    "    url = f\"{base_url}metadata?api_key={api_key}&keys[]={keys}&version={version}\"\n",
    "    print(url)                                             \n",
    "    response = requests.get(url) \n",
    "    if response.status_code == 200:\n",
    "        return response.json()\n",
    "    else:\n",
    "        print(\"Error fetching metadata:\", response.status_code, response.text)\n",
    "        return None"
   ]
  },
  {
   "cell_type": "code",
   "execution_count": null,
   "metadata": {},
   "outputs": [],
   "source": [
    "if core_dataset:\n",
    "        # The first entry is column headers, retrieve data rows\n",
    "        headers = core_dataset[0]\n",
    "        data_rows = core_dataset[1:]\n",
    "        \n",
    "        # Identify the index of the 'party' column\n",
    "        party_index = headers.index('party')\n",
    "        country_index = headers.index('country')\n",
    "\n",
    "        # Filter to get entries for the specified Swiss parties\n",
    "        swiss_party_ids = ['43110', '43120', '43320', '43420', '43520', '43531', '43810', '43811']\n",
    "        swiss_parties = [row for row in data_rows if row[party_index] in swiss_party_ids]\n",
    "        \n",
    "        # Print the filtered entries for Swiss parties\n",
    "        print(swiss_parties)\n"
   ]
  },
  {
   "cell_type": "code",
   "execution_count": 162,
   "metadata": {},
   "outputs": [],
   "source": [
    "# get manifesto text\n",
    "def get_texts_and_annotations(api_key, queryable_keys,version):\n",
    "    url = f\"{base_url}texts_and_annotations?api_key={api_key}&keys[]={queryable_keys}&version={version}\"\n",
    "    print(url)                                             \n",
    "    response = requests.get(url) \n",
    "    if response.status_code == 200:\n",
    "        return response.json()\n",
    "    else:\n",
    "        print(\"Error fetching metadata:\", response.status_code, response.text)\n",
    "        return None"
   ]
  },
  {
   "cell_type": "code",
   "execution_count": null,
   "metadata": {},
   "outputs": [],
   "source": [
    "queryable_keys = [f\"{row[party_index]}_{row[headers.index('date')]}\" for row in swiss_parties]\n",
    "queryable_keys"
   ]
  },
  {
   "cell_type": "code",
   "execution_count": 169,
   "metadata": {},
   "outputs": [
    {
     "name": "stdout",
     "output_type": "stream",
     "text": [
      "https://manifesto-project.wzb.eu/api/v1/texts_and_annotations?api_key=24efa7fb0e6e8e80b521506cdfcd1f76&keys[]=43320_194710&version=2024-1\n",
      "https://manifesto-project.wzb.eu/api/v1/texts_and_annotations?api_key=24efa7fb0e6e8e80b521506cdfcd1f76&keys[]=43420_194710&version=2024-1\n",
      "https://manifesto-project.wzb.eu/api/v1/texts_and_annotations?api_key=24efa7fb0e6e8e80b521506cdfcd1f76&keys[]=43520_194710&version=2024-1\n",
      "https://manifesto-project.wzb.eu/api/v1/texts_and_annotations?api_key=24efa7fb0e6e8e80b521506cdfcd1f76&keys[]=43810_194710&version=2024-1\n",
      "https://manifesto-project.wzb.eu/api/v1/texts_and_annotations?api_key=24efa7fb0e6e8e80b521506cdfcd1f76&keys[]=43320_195110&version=2024-1\n",
      "https://manifesto-project.wzb.eu/api/v1/texts_and_annotations?api_key=24efa7fb0e6e8e80b521506cdfcd1f76&keys[]=43420_195110&version=2024-1\n",
      "https://manifesto-project.wzb.eu/api/v1/texts_and_annotations?api_key=24efa7fb0e6e8e80b521506cdfcd1f76&keys[]=43520_195110&version=2024-1\n",
      "https://manifesto-project.wzb.eu/api/v1/texts_and_annotations?api_key=24efa7fb0e6e8e80b521506cdfcd1f76&keys[]=43810_195110&version=2024-1\n",
      "https://manifesto-project.wzb.eu/api/v1/texts_and_annotations?api_key=24efa7fb0e6e8e80b521506cdfcd1f76&keys[]=43320_195510&version=2024-1\n",
      "https://manifesto-project.wzb.eu/api/v1/texts_and_annotations?api_key=24efa7fb0e6e8e80b521506cdfcd1f76&keys[]=43420_195510&version=2024-1\n",
      "https://manifesto-project.wzb.eu/api/v1/texts_and_annotations?api_key=24efa7fb0e6e8e80b521506cdfcd1f76&keys[]=43520_195510&version=2024-1\n",
      "https://manifesto-project.wzb.eu/api/v1/texts_and_annotations?api_key=24efa7fb0e6e8e80b521506cdfcd1f76&keys[]=43810_195510&version=2024-1\n",
      "https://manifesto-project.wzb.eu/api/v1/texts_and_annotations?api_key=24efa7fb0e6e8e80b521506cdfcd1f76&keys[]=43320_195910&version=2024-1\n",
      "https://manifesto-project.wzb.eu/api/v1/texts_and_annotations?api_key=24efa7fb0e6e8e80b521506cdfcd1f76&keys[]=43420_195910&version=2024-1\n",
      "https://manifesto-project.wzb.eu/api/v1/texts_and_annotations?api_key=24efa7fb0e6e8e80b521506cdfcd1f76&keys[]=43520_195910&version=2024-1\n",
      "https://manifesto-project.wzb.eu/api/v1/texts_and_annotations?api_key=24efa7fb0e6e8e80b521506cdfcd1f76&keys[]=43810_195910&version=2024-1\n",
      "https://manifesto-project.wzb.eu/api/v1/texts_and_annotations?api_key=24efa7fb0e6e8e80b521506cdfcd1f76&keys[]=43320_196310&version=2024-1\n",
      "https://manifesto-project.wzb.eu/api/v1/texts_and_annotations?api_key=24efa7fb0e6e8e80b521506cdfcd1f76&keys[]=43420_196310&version=2024-1\n",
      "https://manifesto-project.wzb.eu/api/v1/texts_and_annotations?api_key=24efa7fb0e6e8e80b521506cdfcd1f76&keys[]=43520_196310&version=2024-1\n",
      "https://manifesto-project.wzb.eu/api/v1/texts_and_annotations?api_key=24efa7fb0e6e8e80b521506cdfcd1f76&keys[]=43810_196310&version=2024-1\n",
      "https://manifesto-project.wzb.eu/api/v1/texts_and_annotations?api_key=24efa7fb0e6e8e80b521506cdfcd1f76&keys[]=43320_196710&version=2024-1\n",
      "https://manifesto-project.wzb.eu/api/v1/texts_and_annotations?api_key=24efa7fb0e6e8e80b521506cdfcd1f76&keys[]=43420_196710&version=2024-1\n",
      "https://manifesto-project.wzb.eu/api/v1/texts_and_annotations?api_key=24efa7fb0e6e8e80b521506cdfcd1f76&keys[]=43520_196710&version=2024-1\n",
      "https://manifesto-project.wzb.eu/api/v1/texts_and_annotations?api_key=24efa7fb0e6e8e80b521506cdfcd1f76&keys[]=43810_196710&version=2024-1\n",
      "https://manifesto-project.wzb.eu/api/v1/texts_and_annotations?api_key=24efa7fb0e6e8e80b521506cdfcd1f76&keys[]=43320_197110&version=2024-1\n",
      "https://manifesto-project.wzb.eu/api/v1/texts_and_annotations?api_key=24efa7fb0e6e8e80b521506cdfcd1f76&keys[]=43420_197110&version=2024-1\n",
      "https://manifesto-project.wzb.eu/api/v1/texts_and_annotations?api_key=24efa7fb0e6e8e80b521506cdfcd1f76&keys[]=43520_197110&version=2024-1\n",
      "https://manifesto-project.wzb.eu/api/v1/texts_and_annotations?api_key=24efa7fb0e6e8e80b521506cdfcd1f76&keys[]=43810_197110&version=2024-1\n",
      "https://manifesto-project.wzb.eu/api/v1/texts_and_annotations?api_key=24efa7fb0e6e8e80b521506cdfcd1f76&keys[]=43320_197510&version=2024-1\n",
      "https://manifesto-project.wzb.eu/api/v1/texts_and_annotations?api_key=24efa7fb0e6e8e80b521506cdfcd1f76&keys[]=43420_197510&version=2024-1\n",
      "https://manifesto-project.wzb.eu/api/v1/texts_and_annotations?api_key=24efa7fb0e6e8e80b521506cdfcd1f76&keys[]=43520_197510&version=2024-1\n",
      "https://manifesto-project.wzb.eu/api/v1/texts_and_annotations?api_key=24efa7fb0e6e8e80b521506cdfcd1f76&keys[]=43810_197510&version=2024-1\n",
      "https://manifesto-project.wzb.eu/api/v1/texts_and_annotations?api_key=24efa7fb0e6e8e80b521506cdfcd1f76&keys[]=43110_197910&version=2024-1\n",
      "https://manifesto-project.wzb.eu/api/v1/texts_and_annotations?api_key=24efa7fb0e6e8e80b521506cdfcd1f76&keys[]=43320_197910&version=2024-1\n",
      "https://manifesto-project.wzb.eu/api/v1/texts_and_annotations?api_key=24efa7fb0e6e8e80b521506cdfcd1f76&keys[]=43420_197910&version=2024-1\n",
      "https://manifesto-project.wzb.eu/api/v1/texts_and_annotations?api_key=24efa7fb0e6e8e80b521506cdfcd1f76&keys[]=43520_197910&version=2024-1\n",
      "https://manifesto-project.wzb.eu/api/v1/texts_and_annotations?api_key=24efa7fb0e6e8e80b521506cdfcd1f76&keys[]=43810_197910&version=2024-1\n"
     ]
    },
    {
     "ename": "KeyboardInterrupt",
     "evalue": "",
     "output_type": "error",
     "traceback": [
      "\u001b[1;31m---------------------------------------------------------------------------\u001b[0m",
      "\u001b[1;31mKeyboardInterrupt\u001b[0m                         Traceback (most recent call last)",
      "Cell \u001b[1;32mIn[169], line 5\u001b[0m\n\u001b[0;32m      3\u001b[0m \u001b[38;5;66;03m# Loop over each queryable_key and fetch data\u001b[39;00m\n\u001b[0;32m      4\u001b[0m \u001b[38;5;28;01mfor\u001b[39;00m key \u001b[38;5;129;01min\u001b[39;00m queryable_keys:\n\u001b[1;32m----> 5\u001b[0m     response \u001b[38;5;241m=\u001b[39m \u001b[43mget_texts_and_annotations\u001b[49m\u001b[43m(\u001b[49m\u001b[43mapi_key\u001b[49m\u001b[43m,\u001b[49m\u001b[43m \u001b[49m\u001b[43mkey\u001b[49m\u001b[43m,\u001b[49m\u001b[43m \u001b[49m\u001b[43mversion\u001b[49m\u001b[43m)\u001b[49m\n\u001b[0;32m      6\u001b[0m     \u001b[38;5;28;01mif\u001b[39;00m response \u001b[38;5;129;01mand\u001b[39;00m \u001b[38;5;124m'\u001b[39m\u001b[38;5;124mitems\u001b[39m\u001b[38;5;124m'\u001b[39m \u001b[38;5;129;01min\u001b[39;00m response:\n\u001b[0;32m      7\u001b[0m         \u001b[38;5;28;01mfor\u001b[39;00m item \u001b[38;5;129;01min\u001b[39;00m response[\u001b[38;5;124m'\u001b[39m\u001b[38;5;124mitems\u001b[39m\u001b[38;5;124m'\u001b[39m]:\n",
      "Cell \u001b[1;32mIn[162], line 5\u001b[0m, in \u001b[0;36mget_texts_and_annotations\u001b[1;34m(api_key, queryable_keys, version)\u001b[0m\n\u001b[0;32m      3\u001b[0m url \u001b[38;5;241m=\u001b[39m \u001b[38;5;124mf\u001b[39m\u001b[38;5;124m\"\u001b[39m\u001b[38;5;132;01m{\u001b[39;00mbase_url\u001b[38;5;132;01m}\u001b[39;00m\u001b[38;5;124mtexts_and_annotations?api_key=\u001b[39m\u001b[38;5;132;01m{\u001b[39;00mapi_key\u001b[38;5;132;01m}\u001b[39;00m\u001b[38;5;124m&keys[]=\u001b[39m\u001b[38;5;132;01m{\u001b[39;00mqueryable_keys\u001b[38;5;132;01m}\u001b[39;00m\u001b[38;5;124m&version=\u001b[39m\u001b[38;5;132;01m{\u001b[39;00mversion\u001b[38;5;132;01m}\u001b[39;00m\u001b[38;5;124m\"\u001b[39m\n\u001b[0;32m      4\u001b[0m \u001b[38;5;28mprint\u001b[39m(url)                                             \n\u001b[1;32m----> 5\u001b[0m response \u001b[38;5;241m=\u001b[39m \u001b[43mrequests\u001b[49m\u001b[38;5;241;43m.\u001b[39;49m\u001b[43mget\u001b[49m\u001b[43m(\u001b[49m\u001b[43murl\u001b[49m\u001b[43m)\u001b[49m \n\u001b[0;32m      6\u001b[0m \u001b[38;5;28;01mif\u001b[39;00m response\u001b[38;5;241m.\u001b[39mstatus_code \u001b[38;5;241m==\u001b[39m \u001b[38;5;241m200\u001b[39m:\n\u001b[0;32m      7\u001b[0m     \u001b[38;5;28;01mreturn\u001b[39;00m response\u001b[38;5;241m.\u001b[39mjson()\n",
      "File \u001b[1;32md:\\ETH Cours\\deep-learning-ss\\final-project\\env\\lib\\site-packages\\requests\\api.py:73\u001b[0m, in \u001b[0;36mget\u001b[1;34m(url, params, **kwargs)\u001b[0m\n\u001b[0;32m     62\u001b[0m \u001b[38;5;28;01mdef\u001b[39;00m \u001b[38;5;21mget\u001b[39m(url, params\u001b[38;5;241m=\u001b[39m\u001b[38;5;28;01mNone\u001b[39;00m, \u001b[38;5;241m*\u001b[39m\u001b[38;5;241m*\u001b[39mkwargs):\n\u001b[0;32m     63\u001b[0m \u001b[38;5;250m    \u001b[39m\u001b[38;5;124mr\u001b[39m\u001b[38;5;124;03m\"\"\"Sends a GET request.\u001b[39;00m\n\u001b[0;32m     64\u001b[0m \n\u001b[0;32m     65\u001b[0m \u001b[38;5;124;03m    :param url: URL for the new :class:`Request` object.\u001b[39;00m\n\u001b[1;32m   (...)\u001b[0m\n\u001b[0;32m     70\u001b[0m \u001b[38;5;124;03m    :rtype: requests.Response\u001b[39;00m\n\u001b[0;32m     71\u001b[0m \u001b[38;5;124;03m    \"\"\"\u001b[39;00m\n\u001b[1;32m---> 73\u001b[0m     \u001b[38;5;28;01mreturn\u001b[39;00m request(\u001b[38;5;124m\"\u001b[39m\u001b[38;5;124mget\u001b[39m\u001b[38;5;124m\"\u001b[39m, url, params\u001b[38;5;241m=\u001b[39mparams, \u001b[38;5;241m*\u001b[39m\u001b[38;5;241m*\u001b[39mkwargs)\n",
      "File \u001b[1;32md:\\ETH Cours\\deep-learning-ss\\final-project\\env\\lib\\site-packages\\requests\\api.py:59\u001b[0m, in \u001b[0;36mrequest\u001b[1;34m(method, url, **kwargs)\u001b[0m\n\u001b[0;32m     55\u001b[0m \u001b[38;5;66;03m# By using the 'with' statement we are sure the session is closed, thus we\u001b[39;00m\n\u001b[0;32m     56\u001b[0m \u001b[38;5;66;03m# avoid leaving sockets open which can trigger a ResourceWarning in some\u001b[39;00m\n\u001b[0;32m     57\u001b[0m \u001b[38;5;66;03m# cases, and look like a memory leak in others.\u001b[39;00m\n\u001b[0;32m     58\u001b[0m \u001b[38;5;28;01mwith\u001b[39;00m sessions\u001b[38;5;241m.\u001b[39mSession() \u001b[38;5;28;01mas\u001b[39;00m session:\n\u001b[1;32m---> 59\u001b[0m     \u001b[38;5;28;01mreturn\u001b[39;00m session\u001b[38;5;241m.\u001b[39mrequest(method\u001b[38;5;241m=\u001b[39mmethod, url\u001b[38;5;241m=\u001b[39murl, \u001b[38;5;241m*\u001b[39m\u001b[38;5;241m*\u001b[39mkwargs)\n",
      "File \u001b[1;32md:\\ETH Cours\\deep-learning-ss\\final-project\\env\\lib\\site-packages\\requests\\sessions.py:589\u001b[0m, in \u001b[0;36mSession.request\u001b[1;34m(self, method, url, params, data, headers, cookies, files, auth, timeout, allow_redirects, proxies, hooks, stream, verify, cert, json)\u001b[0m\n\u001b[0;32m    584\u001b[0m send_kwargs \u001b[38;5;241m=\u001b[39m {\n\u001b[0;32m    585\u001b[0m     \u001b[38;5;124m\"\u001b[39m\u001b[38;5;124mtimeout\u001b[39m\u001b[38;5;124m\"\u001b[39m: timeout,\n\u001b[0;32m    586\u001b[0m     \u001b[38;5;124m\"\u001b[39m\u001b[38;5;124mallow_redirects\u001b[39m\u001b[38;5;124m\"\u001b[39m: allow_redirects,\n\u001b[0;32m    587\u001b[0m }\n\u001b[0;32m    588\u001b[0m send_kwargs\u001b[38;5;241m.\u001b[39mupdate(settings)\n\u001b[1;32m--> 589\u001b[0m resp \u001b[38;5;241m=\u001b[39m \u001b[38;5;28mself\u001b[39m\u001b[38;5;241m.\u001b[39msend(prep, \u001b[38;5;241m*\u001b[39m\u001b[38;5;241m*\u001b[39msend_kwargs)\n\u001b[0;32m    591\u001b[0m \u001b[38;5;28;01mreturn\u001b[39;00m resp\n",
      "File \u001b[1;32md:\\ETH Cours\\deep-learning-ss\\final-project\\env\\lib\\site-packages\\requests\\sessions.py:703\u001b[0m, in \u001b[0;36mSession.send\u001b[1;34m(self, request, **kwargs)\u001b[0m\n\u001b[0;32m    700\u001b[0m start \u001b[38;5;241m=\u001b[39m preferred_clock()\n\u001b[0;32m    702\u001b[0m \u001b[38;5;66;03m# Send the request\u001b[39;00m\n\u001b[1;32m--> 703\u001b[0m r \u001b[38;5;241m=\u001b[39m adapter\u001b[38;5;241m.\u001b[39msend(request, \u001b[38;5;241m*\u001b[39m\u001b[38;5;241m*\u001b[39mkwargs)\n\u001b[0;32m    705\u001b[0m \u001b[38;5;66;03m# Total elapsed time of the request (approximately)\u001b[39;00m\n\u001b[0;32m    706\u001b[0m elapsed \u001b[38;5;241m=\u001b[39m preferred_clock() \u001b[38;5;241m-\u001b[39m start\n",
      "File \u001b[1;32md:\\ETH Cours\\deep-learning-ss\\final-project\\env\\lib\\site-packages\\requests\\adapters.py:667\u001b[0m, in \u001b[0;36mHTTPAdapter.send\u001b[1;34m(self, request, stream, timeout, verify, cert, proxies)\u001b[0m\n\u001b[0;32m    664\u001b[0m     timeout \u001b[38;5;241m=\u001b[39m TimeoutSauce(connect\u001b[38;5;241m=\u001b[39mtimeout, read\u001b[38;5;241m=\u001b[39mtimeout)\n\u001b[0;32m    666\u001b[0m \u001b[38;5;28;01mtry\u001b[39;00m:\n\u001b[1;32m--> 667\u001b[0m     resp \u001b[38;5;241m=\u001b[39m \u001b[43mconn\u001b[49m\u001b[38;5;241;43m.\u001b[39;49m\u001b[43murlopen\u001b[49m\u001b[43m(\u001b[49m\n\u001b[0;32m    668\u001b[0m \u001b[43m        \u001b[49m\u001b[43mmethod\u001b[49m\u001b[38;5;241;43m=\u001b[39;49m\u001b[43mrequest\u001b[49m\u001b[38;5;241;43m.\u001b[39;49m\u001b[43mmethod\u001b[49m\u001b[43m,\u001b[49m\n\u001b[0;32m    669\u001b[0m \u001b[43m        \u001b[49m\u001b[43murl\u001b[49m\u001b[38;5;241;43m=\u001b[39;49m\u001b[43murl\u001b[49m\u001b[43m,\u001b[49m\n\u001b[0;32m    670\u001b[0m \u001b[43m        \u001b[49m\u001b[43mbody\u001b[49m\u001b[38;5;241;43m=\u001b[39;49m\u001b[43mrequest\u001b[49m\u001b[38;5;241;43m.\u001b[39;49m\u001b[43mbody\u001b[49m\u001b[43m,\u001b[49m\n\u001b[0;32m    671\u001b[0m \u001b[43m        \u001b[49m\u001b[43mheaders\u001b[49m\u001b[38;5;241;43m=\u001b[39;49m\u001b[43mrequest\u001b[49m\u001b[38;5;241;43m.\u001b[39;49m\u001b[43mheaders\u001b[49m\u001b[43m,\u001b[49m\n\u001b[0;32m    672\u001b[0m \u001b[43m        \u001b[49m\u001b[43mredirect\u001b[49m\u001b[38;5;241;43m=\u001b[39;49m\u001b[38;5;28;43;01mFalse\u001b[39;49;00m\u001b[43m,\u001b[49m\n\u001b[0;32m    673\u001b[0m \u001b[43m        \u001b[49m\u001b[43massert_same_host\u001b[49m\u001b[38;5;241;43m=\u001b[39;49m\u001b[38;5;28;43;01mFalse\u001b[39;49;00m\u001b[43m,\u001b[49m\n\u001b[0;32m    674\u001b[0m \u001b[43m        \u001b[49m\u001b[43mpreload_content\u001b[49m\u001b[38;5;241;43m=\u001b[39;49m\u001b[38;5;28;43;01mFalse\u001b[39;49;00m\u001b[43m,\u001b[49m\n\u001b[0;32m    675\u001b[0m \u001b[43m        \u001b[49m\u001b[43mdecode_content\u001b[49m\u001b[38;5;241;43m=\u001b[39;49m\u001b[38;5;28;43;01mFalse\u001b[39;49;00m\u001b[43m,\u001b[49m\n\u001b[0;32m    676\u001b[0m \u001b[43m        \u001b[49m\u001b[43mretries\u001b[49m\u001b[38;5;241;43m=\u001b[39;49m\u001b[38;5;28;43mself\u001b[39;49m\u001b[38;5;241;43m.\u001b[39;49m\u001b[43mmax_retries\u001b[49m\u001b[43m,\u001b[49m\n\u001b[0;32m    677\u001b[0m \u001b[43m        \u001b[49m\u001b[43mtimeout\u001b[49m\u001b[38;5;241;43m=\u001b[39;49m\u001b[43mtimeout\u001b[49m\u001b[43m,\u001b[49m\n\u001b[0;32m    678\u001b[0m \u001b[43m        \u001b[49m\u001b[43mchunked\u001b[49m\u001b[38;5;241;43m=\u001b[39;49m\u001b[43mchunked\u001b[49m\u001b[43m,\u001b[49m\n\u001b[0;32m    679\u001b[0m \u001b[43m    \u001b[49m\u001b[43m)\u001b[49m\n\u001b[0;32m    681\u001b[0m \u001b[38;5;28;01mexcept\u001b[39;00m (ProtocolError, \u001b[38;5;167;01mOSError\u001b[39;00m) \u001b[38;5;28;01mas\u001b[39;00m err:\n\u001b[0;32m    682\u001b[0m     \u001b[38;5;28;01mraise\u001b[39;00m \u001b[38;5;167;01mConnectionError\u001b[39;00m(err, request\u001b[38;5;241m=\u001b[39mrequest)\n",
      "File \u001b[1;32md:\\ETH Cours\\deep-learning-ss\\final-project\\env\\lib\\site-packages\\urllib3\\connectionpool.py:789\u001b[0m, in \u001b[0;36mHTTPConnectionPool.urlopen\u001b[1;34m(self, method, url, body, headers, retries, redirect, assert_same_host, timeout, pool_timeout, release_conn, chunked, body_pos, preload_content, decode_content, **response_kw)\u001b[0m\n\u001b[0;32m    786\u001b[0m response_conn \u001b[38;5;241m=\u001b[39m conn \u001b[38;5;28;01mif\u001b[39;00m \u001b[38;5;129;01mnot\u001b[39;00m release_conn \u001b[38;5;28;01melse\u001b[39;00m \u001b[38;5;28;01mNone\u001b[39;00m\n\u001b[0;32m    788\u001b[0m \u001b[38;5;66;03m# Make the request on the HTTPConnection object\u001b[39;00m\n\u001b[1;32m--> 789\u001b[0m response \u001b[38;5;241m=\u001b[39m \u001b[38;5;28mself\u001b[39m\u001b[38;5;241m.\u001b[39m_make_request(\n\u001b[0;32m    790\u001b[0m     conn,\n\u001b[0;32m    791\u001b[0m     method,\n\u001b[0;32m    792\u001b[0m     url,\n\u001b[0;32m    793\u001b[0m     timeout\u001b[38;5;241m=\u001b[39mtimeout_obj,\n\u001b[0;32m    794\u001b[0m     body\u001b[38;5;241m=\u001b[39mbody,\n\u001b[0;32m    795\u001b[0m     headers\u001b[38;5;241m=\u001b[39mheaders,\n\u001b[0;32m    796\u001b[0m     chunked\u001b[38;5;241m=\u001b[39mchunked,\n\u001b[0;32m    797\u001b[0m     retries\u001b[38;5;241m=\u001b[39mretries,\n\u001b[0;32m    798\u001b[0m     response_conn\u001b[38;5;241m=\u001b[39mresponse_conn,\n\u001b[0;32m    799\u001b[0m     preload_content\u001b[38;5;241m=\u001b[39mpreload_content,\n\u001b[0;32m    800\u001b[0m     decode_content\u001b[38;5;241m=\u001b[39mdecode_content,\n\u001b[0;32m    801\u001b[0m     \u001b[38;5;241m*\u001b[39m\u001b[38;5;241m*\u001b[39mresponse_kw,\n\u001b[0;32m    802\u001b[0m )\n\u001b[0;32m    804\u001b[0m \u001b[38;5;66;03m# Everything went great!\u001b[39;00m\n\u001b[0;32m    805\u001b[0m clean_exit \u001b[38;5;241m=\u001b[39m \u001b[38;5;28;01mTrue\u001b[39;00m\n",
      "File \u001b[1;32md:\\ETH Cours\\deep-learning-ss\\final-project\\env\\lib\\site-packages\\urllib3\\connectionpool.py:536\u001b[0m, in \u001b[0;36mHTTPConnectionPool._make_request\u001b[1;34m(self, conn, method, url, body, headers, retries, timeout, chunked, response_conn, preload_content, decode_content, enforce_content_length)\u001b[0m\n\u001b[0;32m    534\u001b[0m \u001b[38;5;66;03m# Receive the response from the server\u001b[39;00m\n\u001b[0;32m    535\u001b[0m \u001b[38;5;28;01mtry\u001b[39;00m:\n\u001b[1;32m--> 536\u001b[0m     response \u001b[38;5;241m=\u001b[39m \u001b[43mconn\u001b[49m\u001b[38;5;241;43m.\u001b[39;49m\u001b[43mgetresponse\u001b[49m\u001b[43m(\u001b[49m\u001b[43m)\u001b[49m\n\u001b[0;32m    537\u001b[0m \u001b[38;5;28;01mexcept\u001b[39;00m (BaseSSLError, \u001b[38;5;167;01mOSError\u001b[39;00m) \u001b[38;5;28;01mas\u001b[39;00m e:\n\u001b[0;32m    538\u001b[0m     \u001b[38;5;28mself\u001b[39m\u001b[38;5;241m.\u001b[39m_raise_timeout(err\u001b[38;5;241m=\u001b[39me, url\u001b[38;5;241m=\u001b[39murl, timeout_value\u001b[38;5;241m=\u001b[39mread_timeout)\n",
      "File \u001b[1;32md:\\ETH Cours\\deep-learning-ss\\final-project\\env\\lib\\site-packages\\urllib3\\connection.py:464\u001b[0m, in \u001b[0;36mHTTPConnection.getresponse\u001b[1;34m(self)\u001b[0m\n\u001b[0;32m    461\u001b[0m \u001b[38;5;28;01mfrom\u001b[39;00m \u001b[38;5;21;01m.\u001b[39;00m\u001b[38;5;21;01mresponse\u001b[39;00m \u001b[38;5;28;01mimport\u001b[39;00m HTTPResponse\n\u001b[0;32m    463\u001b[0m \u001b[38;5;66;03m# Get the response from http.client.HTTPConnection\u001b[39;00m\n\u001b[1;32m--> 464\u001b[0m httplib_response \u001b[38;5;241m=\u001b[39m \u001b[38;5;28;43msuper\u001b[39;49m\u001b[43m(\u001b[49m\u001b[43m)\u001b[49m\u001b[38;5;241;43m.\u001b[39;49m\u001b[43mgetresponse\u001b[49m\u001b[43m(\u001b[49m\u001b[43m)\u001b[49m\n\u001b[0;32m    466\u001b[0m \u001b[38;5;28;01mtry\u001b[39;00m:\n\u001b[0;32m    467\u001b[0m     assert_header_parsing(httplib_response\u001b[38;5;241m.\u001b[39mmsg)\n",
      "File \u001b[1;32m~\\AppData\\Local\\Programs\\Python\\Python39\\lib\\http\\client.py:1377\u001b[0m, in \u001b[0;36mHTTPConnection.getresponse\u001b[1;34m(self)\u001b[0m\n\u001b[0;32m   1375\u001b[0m \u001b[38;5;28;01mtry\u001b[39;00m:\n\u001b[0;32m   1376\u001b[0m     \u001b[38;5;28;01mtry\u001b[39;00m:\n\u001b[1;32m-> 1377\u001b[0m         \u001b[43mresponse\u001b[49m\u001b[38;5;241;43m.\u001b[39;49m\u001b[43mbegin\u001b[49m\u001b[43m(\u001b[49m\u001b[43m)\u001b[49m\n\u001b[0;32m   1378\u001b[0m     \u001b[38;5;28;01mexcept\u001b[39;00m \u001b[38;5;167;01mConnectionError\u001b[39;00m:\n\u001b[0;32m   1379\u001b[0m         \u001b[38;5;28mself\u001b[39m\u001b[38;5;241m.\u001b[39mclose()\n",
      "File \u001b[1;32m~\\AppData\\Local\\Programs\\Python\\Python39\\lib\\http\\client.py:320\u001b[0m, in \u001b[0;36mHTTPResponse.begin\u001b[1;34m(self)\u001b[0m\n\u001b[0;32m    318\u001b[0m \u001b[38;5;66;03m# read until we get a non-100 response\u001b[39;00m\n\u001b[0;32m    319\u001b[0m \u001b[38;5;28;01mwhile\u001b[39;00m \u001b[38;5;28;01mTrue\u001b[39;00m:\n\u001b[1;32m--> 320\u001b[0m     version, status, reason \u001b[38;5;241m=\u001b[39m \u001b[38;5;28;43mself\u001b[39;49m\u001b[38;5;241;43m.\u001b[39;49m\u001b[43m_read_status\u001b[49m\u001b[43m(\u001b[49m\u001b[43m)\u001b[49m\n\u001b[0;32m    321\u001b[0m     \u001b[38;5;28;01mif\u001b[39;00m status \u001b[38;5;241m!=\u001b[39m CONTINUE:\n\u001b[0;32m    322\u001b[0m         \u001b[38;5;28;01mbreak\u001b[39;00m\n",
      "File \u001b[1;32m~\\AppData\\Local\\Programs\\Python\\Python39\\lib\\http\\client.py:281\u001b[0m, in \u001b[0;36mHTTPResponse._read_status\u001b[1;34m(self)\u001b[0m\n\u001b[0;32m    280\u001b[0m \u001b[38;5;28;01mdef\u001b[39;00m \u001b[38;5;21m_read_status\u001b[39m(\u001b[38;5;28mself\u001b[39m):\n\u001b[1;32m--> 281\u001b[0m     line \u001b[38;5;241m=\u001b[39m \u001b[38;5;28mstr\u001b[39m(\u001b[38;5;28;43mself\u001b[39;49m\u001b[38;5;241;43m.\u001b[39;49m\u001b[43mfp\u001b[49m\u001b[38;5;241;43m.\u001b[39;49m\u001b[43mreadline\u001b[49m\u001b[43m(\u001b[49m\u001b[43m_MAXLINE\u001b[49m\u001b[43m \u001b[49m\u001b[38;5;241;43m+\u001b[39;49m\u001b[43m \u001b[49m\u001b[38;5;241;43m1\u001b[39;49m\u001b[43m)\u001b[49m, \u001b[38;5;124m\"\u001b[39m\u001b[38;5;124miso-8859-1\u001b[39m\u001b[38;5;124m\"\u001b[39m)\n\u001b[0;32m    282\u001b[0m     \u001b[38;5;28;01mif\u001b[39;00m \u001b[38;5;28mlen\u001b[39m(line) \u001b[38;5;241m>\u001b[39m _MAXLINE:\n\u001b[0;32m    283\u001b[0m         \u001b[38;5;28;01mraise\u001b[39;00m LineTooLong(\u001b[38;5;124m\"\u001b[39m\u001b[38;5;124mstatus line\u001b[39m\u001b[38;5;124m\"\u001b[39m)\n",
      "File \u001b[1;32m~\\AppData\\Local\\Programs\\Python\\Python39\\lib\\socket.py:704\u001b[0m, in \u001b[0;36mSocketIO.readinto\u001b[1;34m(self, b)\u001b[0m\n\u001b[0;32m    702\u001b[0m \u001b[38;5;28;01mwhile\u001b[39;00m \u001b[38;5;28;01mTrue\u001b[39;00m:\n\u001b[0;32m    703\u001b[0m     \u001b[38;5;28;01mtry\u001b[39;00m:\n\u001b[1;32m--> 704\u001b[0m         \u001b[38;5;28;01mreturn\u001b[39;00m \u001b[38;5;28;43mself\u001b[39;49m\u001b[38;5;241;43m.\u001b[39;49m\u001b[43m_sock\u001b[49m\u001b[38;5;241;43m.\u001b[39;49m\u001b[43mrecv_into\u001b[49m\u001b[43m(\u001b[49m\u001b[43mb\u001b[49m\u001b[43m)\u001b[49m\n\u001b[0;32m    705\u001b[0m     \u001b[38;5;28;01mexcept\u001b[39;00m timeout:\n\u001b[0;32m    706\u001b[0m         \u001b[38;5;28mself\u001b[39m\u001b[38;5;241m.\u001b[39m_timeout_occurred \u001b[38;5;241m=\u001b[39m \u001b[38;5;28;01mTrue\u001b[39;00m\n",
      "File \u001b[1;32m~\\AppData\\Local\\Programs\\Python\\Python39\\lib\\ssl.py:1241\u001b[0m, in \u001b[0;36mSSLSocket.recv_into\u001b[1;34m(self, buffer, nbytes, flags)\u001b[0m\n\u001b[0;32m   1237\u001b[0m     \u001b[38;5;28;01mif\u001b[39;00m flags \u001b[38;5;241m!=\u001b[39m \u001b[38;5;241m0\u001b[39m:\n\u001b[0;32m   1238\u001b[0m         \u001b[38;5;28;01mraise\u001b[39;00m \u001b[38;5;167;01mValueError\u001b[39;00m(\n\u001b[0;32m   1239\u001b[0m           \u001b[38;5;124m\"\u001b[39m\u001b[38;5;124mnon-zero flags not allowed in calls to recv_into() on \u001b[39m\u001b[38;5;132;01m%s\u001b[39;00m\u001b[38;5;124m\"\u001b[39m \u001b[38;5;241m%\u001b[39m\n\u001b[0;32m   1240\u001b[0m           \u001b[38;5;28mself\u001b[39m\u001b[38;5;241m.\u001b[39m\u001b[38;5;18m__class__\u001b[39m)\n\u001b[1;32m-> 1241\u001b[0m     \u001b[38;5;28;01mreturn\u001b[39;00m \u001b[38;5;28;43mself\u001b[39;49m\u001b[38;5;241;43m.\u001b[39;49m\u001b[43mread\u001b[49m\u001b[43m(\u001b[49m\u001b[43mnbytes\u001b[49m\u001b[43m,\u001b[49m\u001b[43m \u001b[49m\u001b[43mbuffer\u001b[49m\u001b[43m)\u001b[49m\n\u001b[0;32m   1242\u001b[0m \u001b[38;5;28;01melse\u001b[39;00m:\n\u001b[0;32m   1243\u001b[0m     \u001b[38;5;28;01mreturn\u001b[39;00m \u001b[38;5;28msuper\u001b[39m()\u001b[38;5;241m.\u001b[39mrecv_into(buffer, nbytes, flags)\n",
      "File \u001b[1;32m~\\AppData\\Local\\Programs\\Python\\Python39\\lib\\ssl.py:1099\u001b[0m, in \u001b[0;36mSSLSocket.read\u001b[1;34m(self, len, buffer)\u001b[0m\n\u001b[0;32m   1097\u001b[0m \u001b[38;5;28;01mtry\u001b[39;00m:\n\u001b[0;32m   1098\u001b[0m     \u001b[38;5;28;01mif\u001b[39;00m buffer \u001b[38;5;129;01mis\u001b[39;00m \u001b[38;5;129;01mnot\u001b[39;00m \u001b[38;5;28;01mNone\u001b[39;00m:\n\u001b[1;32m-> 1099\u001b[0m         \u001b[38;5;28;01mreturn\u001b[39;00m \u001b[38;5;28;43mself\u001b[39;49m\u001b[38;5;241;43m.\u001b[39;49m\u001b[43m_sslobj\u001b[49m\u001b[38;5;241;43m.\u001b[39;49m\u001b[43mread\u001b[49m\u001b[43m(\u001b[49m\u001b[38;5;28;43mlen\u001b[39;49m\u001b[43m,\u001b[49m\u001b[43m \u001b[49m\u001b[43mbuffer\u001b[49m\u001b[43m)\u001b[49m\n\u001b[0;32m   1100\u001b[0m     \u001b[38;5;28;01melse\u001b[39;00m:\n\u001b[0;32m   1101\u001b[0m         \u001b[38;5;28;01mreturn\u001b[39;00m \u001b[38;5;28mself\u001b[39m\u001b[38;5;241m.\u001b[39m_sslobj\u001b[38;5;241m.\u001b[39mread(\u001b[38;5;28mlen\u001b[39m)\n",
      "\u001b[1;31mKeyboardInterrupt\u001b[0m: "
     ]
    }
   ],
   "source": [
    "# Initialize a list to store the data\n",
    "data = []\n",
    "# Loop over each queryable_key and fetch data\n",
    "for key in queryable_keys:\n",
    "    response = get_texts_and_annotations(api_key, key, version)\n",
    "    if response and 'items' in response:\n",
    "        for item in response['items']:\n",
    "            party, date = key.split('_')\n",
    "            for sub_item in item.get('items', []):\n",
    "                text = sub_item.get('text', '')\n",
    "                cmp_code = sub_item.get('cmp_code', '')\n",
    "                eu_code = sub_item.get('eu_code', '')\n",
    "                data.append({'party': party, 'date': date, 'text': text, 'cmp_code': cmp_code, 'eu_code': eu_code})\n",
    "\n",
    "\n",
    "df = pd.DataFrame(data)\n",
    "\n",
    "\n",
    "print(df)\n",
    "\n",
    "\n",
    "df.to_csv('manifesto_texts.csv', index=False)"
   ]
  },
  {
   "cell_type": "code",
   "execution_count": 158,
   "metadata": {},
   "outputs": [],
   "source": [
    "# get manifesto text english\n",
    "def get_texts_and_annotations_en(api_key, queryable_keys,version):\n",
    "    translation = \"en\" # returns translated text instead of original\n",
    "    url = f\"{base_url}texts_and_annotations?api_key={api_key}&keys[]={queryable_keys}&version={version}&translation={translation}\"\n",
    "    print(url)                                             \n",
    "    response = requests.get(url) \n",
    "    if response.status_code == 200:\n",
    "        return response.json()\n",
    "    else:\n",
    "        print(\"Error fetching metadata:\", response.status_code, response.text)\n",
    "        return None"
   ]
  },
  {
   "cell_type": "code",
   "execution_count": null,
   "metadata": {},
   "outputs": [],
   "source": [
    "# Repeat same steps but with translated data\n",
    "#  Initialize a list to store the data\n",
    "data_en = []\n",
    "\n",
    "# Loop over each queryable_key and fetch data\n",
    "for key in queryable_keys:\n",
    "    response = get_texts_and_annotations_en(api_key, key, version)\n",
    "    if response and 'items' in response:\n",
    "        for item in response['items']:\n",
    "            if not item.get('items'):  # Skip if 'items' is empty\n",
    "                continue\n",
    "            party, date = key.split('_')\n",
    "            for sub_item in item.get('items', []):\n",
    "                text = sub_item.get('text', '')\n",
    "                cmp_code = sub_item.get('cmp_code', '')\n",
    "                eu_code = sub_item.get('eu_code', '')\n",
    "                data_en.append({'party': party, 'date': date, 'text': text, 'cmp_code': cmp_code, 'eu_code': eu_code})\n",
    "\n",
    "# Create a DataFrame\n",
    "df_en = pd.DataFrame(data_en)\n",
    "\n",
    "# Print\n",
    "print(df_en)\n",
    "\n",
    "# Save the DataFrame to a CSV file\n",
    "df_en.to_csv('./data/manifesto_texts_en.csv', index=False)"
   ]
  },
  {
   "cell_type": "code",
   "execution_count": 168,
   "metadata": {},
   "outputs": [
    {
     "name": "stdout",
     "output_type": "stream",
     "text": [
      "    party    date                                               text\n",
      "0   43110  199910  For a sustainable Switzerland Election platfor...\n",
      "1   43110  200310  Another world is possible Green Switzerland Ma...\n",
      "2   43110  200710  GREEN - THE ALTERNATIVE WITH A FUTURE National...\n",
      "3   43110  201110  Nature has to serve for many things: It is the...\n",
      "4   43110  201510  \" Shaping the future - voting green.\" Election...\n",
      "5   43110  201910  ELECTION PLATFORM 2019-2023 INTRODUCTION Switz...\n",
      "6   43120  200710  Assume responsibility and live and politicize ...\n",
      "7   43120  201110  With the introduction of an energy tax on non-...\n",
      "8   43120  201510  Guidelines Now, but also tomorrow We understan...\n",
      "9   43120  201910  It's time - 26 Green-Liberal policy positions ...\n",
      "10  43320  199910  Foreword The federal elections of October 24 c...\n",
      "11  43320  200310  Equality, social security and quality of life!...\n",
      "12  43320  200710  Globalization - the ever closer interconnectio...\n",
      "13  43320  201110  Switzerland can do more. It can become fairer,...\n",
      "14  43320  201510  FAIR WAGES PAYABLE LIVING ROOM SECURE RENT Ele...\n",
      "15  43320  201910  FOR ALL INSTEAD OF A FEW The last four years h...\n",
      "16  43420  199910  Safety through renewal. What we have achieved....\n",
      "17  43420  200710  Four projects for Switzerland. Intelligent Swi...\n",
      "18  43420  201110  Switzerland is strong: we live in prosperity a...\n",
      "19  43420  201510  Future strategy Freedom, public spirit and pro...\n",
      "20  43420  201910  Our Switzerland - our home Moving forward toge...\n",
      "21  43520  200710  1. for a family-friendly Switzerland When chil...\n",
      "22  43520  201110  Help us achieve these goals in the 2011-2015 l...\n",
      "23  43520  201510  Switzerland - our family! Election Program 201...\n",
      "24  43520  201910  THIS IS HOW WE KEEP SWITZERLAND TOGETHER HEALT...\n",
      "25  43531  200310  FOR A SWITZERLAND THAT MOVES FORWARD: AN EFFIC...\n",
      "26  43810  199910  ELECTION PLATFORM 1999 Foreword On the thresho...\n",
      "27  43810  200310  SVP's mission. The mandate of the voters oblig...\n",
      "28  43810  200710  At a glance: The SVP and its program The SVP i...\n",
      "29  43810  201110  Those who vote for the Swiss People's Party sh...\n",
      "30  43810  201510  Our program for a free, independent and sovere...\n",
      "31  43810  201910  Free and safe. I want it I choose it Party pro...\n",
      "32  43811  201110  Switzerland offers its inhabitants a high qual...\n",
      "33  43811  201510  Successes of the BDP 2011- 2015 Orderly nuclea...\n",
      "34  43811  201910  Pension provision in Switzerland - also for fu...\n"
     ]
    }
   ],
   "source": [
    "# Putting back the manifesto texts back together\n",
    "df_en_combined = df_en.groupby(['party', 'date'])['text'].apply(' '.join).reset_index()\n",
    "print(df_en_combined)\n",
    "\n",
    "# combined DataFrame to a CSV file\n",
    "df_en_combined.to_csv('./data/manifesto_combined_texts_en.csv', index=False)"
   ]
  }
 ],
 "metadata": {
  "kernelspec": {
   "display_name": "env",
   "language": "python",
   "name": "python3"
  },
  "language_info": {
   "codemirror_mode": {
    "name": "ipython",
    "version": 3
   },
   "file_extension": ".py",
   "mimetype": "text/x-python",
   "name": "python",
   "nbconvert_exporter": "python",
   "pygments_lexer": "ipython3",
   "version": "3.9.12"
  }
 },
 "nbformat": 4,
 "nbformat_minor": 2
}
